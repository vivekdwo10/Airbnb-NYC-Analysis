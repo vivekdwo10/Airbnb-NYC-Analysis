{
 "cells": [
  {
   "cell_type": "code",
   "execution_count": 2,
   "metadata": {},
   "outputs": [],
   "source": [
    "import pandas as pd\n",
    "import numpy as np\n",
    "import datetime as dt \n"
   ]
  },
  {
   "cell_type": "markdown",
   "metadata": {},
   "source": [
    "## Loading CSV and XLSX files (room price, last review and room type)\n"
   ]
  },
  {
   "cell_type": "code",
   "execution_count": 3,
   "metadata": {},
   "outputs": [],
   "source": [
    "room_price = pd.read_csv(r\"D:\\Data Analyst projects\\Nyc Analysis\\airbnb_price.csv\")\n",
    "review = pd.read_csv(r\"D:\\Data Analyst projects\\Nyc Analysis\\airbnb_last_review.csv\", sep = '\\t')\n",
    "type = pd.ExcelFile(r\"D:\\Data Analyst projects\\Nyc Analysis\\airbnb_room_type.xlsx\")"
   ]
  },
  {
   "cell_type": "code",
   "execution_count": 4,
   "metadata": {},
   "outputs": [],
   "source": [
    "#parsing the first sheet from type, room_types\n",
    "\n",
    "room_type = type.parse()"
   ]
  },
  {
   "cell_type": "code",
   "execution_count": 6,
   "metadata": {},
   "outputs": [
    {
     "data": {
      "text/html": [
       "<style type=\"text/css\">\n",
       "#T_735a7_row0_col0 {\n",
       "  background-color: #fff7fb;\n",
       "  color: #000000;\n",
       "}\n",
       "#T_735a7_row1_col0 {\n",
       "  background-color: #c2cbe2;\n",
       "  color: #000000;\n",
       "}\n",
       "#T_735a7_row2_col0 {\n",
       "  background-color: #4897c4;\n",
       "  color: #f1f1f1;\n",
       "}\n",
       "#T_735a7_row3_col0 {\n",
       "  background-color: #3f93c2;\n",
       "  color: #f1f1f1;\n",
       "}\n",
       "#T_735a7_row4_col0 {\n",
       "  background-color: #3790c0;\n",
       "  color: #f1f1f1;\n",
       "}\n",
       "#T_735a7_row5_col0 {\n",
       "  background-color: #328dbf;\n",
       "  color: #f1f1f1;\n",
       "}\n",
       "#T_735a7_row6_col0 {\n",
       "  background-color: #2484ba;\n",
       "  color: #f1f1f1;\n",
       "}\n",
       "#T_735a7_row7_col0 {\n",
       "  background-color: #056fae;\n",
       "  color: #f1f1f1;\n",
       "}\n",
       "#T_735a7_row8_col0 {\n",
       "  background-color: #0566a0;\n",
       "  color: #f1f1f1;\n",
       "}\n",
       "#T_735a7_row9_col0 {\n",
       "  background-color: #023858;\n",
       "  color: #f1f1f1;\n",
       "}\n",
       "</style>\n",
       "<table id=\"T_735a7\">\n",
       "  <thead>\n",
       "    <tr>\n",
       "      <th class=\"blank level0\" >&nbsp;</th>\n",
       "      <th id=\"T_735a7_level0_col0\" class=\"col_heading level0 col0\" >listing_id</th>\n",
       "      <th id=\"T_735a7_level0_col1\" class=\"col_heading level0 col1\" >price</th>\n",
       "      <th id=\"T_735a7_level0_col2\" class=\"col_heading level0 col2\" >nbhood_full</th>\n",
       "    </tr>\n",
       "  </thead>\n",
       "  <tbody>\n",
       "    <tr>\n",
       "      <th id=\"T_735a7_level0_row0\" class=\"row_heading level0 row0\" >0</th>\n",
       "      <td id=\"T_735a7_row0_col0\" class=\"data row0 col0\" >2595</td>\n",
       "      <td id=\"T_735a7_row0_col1\" class=\"data row0 col1\" >225 dollars</td>\n",
       "      <td id=\"T_735a7_row0_col2\" class=\"data row0 col2\" >Manhattan, Midtown</td>\n",
       "    </tr>\n",
       "    <tr>\n",
       "      <th id=\"T_735a7_level0_row1\" class=\"row_heading level0 row1\" >1</th>\n",
       "      <td id=\"T_735a7_row1_col0\" class=\"data row1 col0\" >3831</td>\n",
       "      <td id=\"T_735a7_row1_col1\" class=\"data row1 col1\" >89 dollars</td>\n",
       "      <td id=\"T_735a7_row1_col2\" class=\"data row1 col2\" >Brooklyn, Clinton Hill</td>\n",
       "    </tr>\n",
       "    <tr>\n",
       "      <th id=\"T_735a7_level0_row2\" class=\"row_heading level0 row2\" >2</th>\n",
       "      <td id=\"T_735a7_row2_col0\" class=\"data row2 col0\" >5099</td>\n",
       "      <td id=\"T_735a7_row2_col1\" class=\"data row2 col1\" >200 dollars</td>\n",
       "      <td id=\"T_735a7_row2_col2\" class=\"data row2 col2\" >Manhattan, Murray Hill</td>\n",
       "    </tr>\n",
       "    <tr>\n",
       "      <th id=\"T_735a7_level0_row3\" class=\"row_heading level0 row3\" >3</th>\n",
       "      <td id=\"T_735a7_row3_col0\" class=\"data row3 col0\" >5178</td>\n",
       "      <td id=\"T_735a7_row3_col1\" class=\"data row3 col1\" >79 dollars</td>\n",
       "      <td id=\"T_735a7_row3_col2\" class=\"data row3 col2\" >Manhattan, Hell's Kitchen</td>\n",
       "    </tr>\n",
       "    <tr>\n",
       "      <th id=\"T_735a7_level0_row4\" class=\"row_heading level0 row4\" >4</th>\n",
       "      <td id=\"T_735a7_row4_col0\" class=\"data row4 col0\" >5238</td>\n",
       "      <td id=\"T_735a7_row4_col1\" class=\"data row4 col1\" >150 dollars</td>\n",
       "      <td id=\"T_735a7_row4_col2\" class=\"data row4 col2\" >Manhattan, Chinatown</td>\n",
       "    </tr>\n",
       "    <tr>\n",
       "      <th id=\"T_735a7_level0_row5\" class=\"row_heading level0 row5\" >5</th>\n",
       "      <td id=\"T_735a7_row5_col0\" class=\"data row5 col0\" >5295</td>\n",
       "      <td id=\"T_735a7_row5_col1\" class=\"data row5 col1\" >135 dollars</td>\n",
       "      <td id=\"T_735a7_row5_col2\" class=\"data row5 col2\" >Manhattan, Upper West Side</td>\n",
       "    </tr>\n",
       "    <tr>\n",
       "      <th id=\"T_735a7_level0_row6\" class=\"row_heading level0 row6\" >6</th>\n",
       "      <td id=\"T_735a7_row6_col0\" class=\"data row6 col0\" >5441</td>\n",
       "      <td id=\"T_735a7_row6_col1\" class=\"data row6 col1\" >85 dollars</td>\n",
       "      <td id=\"T_735a7_row6_col2\" class=\"data row6 col2\" >Manhattan, Hell's Kitchen</td>\n",
       "    </tr>\n",
       "    <tr>\n",
       "      <th id=\"T_735a7_level0_row7\" class=\"row_heading level0 row7\" >7</th>\n",
       "      <td id=\"T_735a7_row7_col0\" class=\"data row7 col0\" >5803</td>\n",
       "      <td id=\"T_735a7_row7_col1\" class=\"data row7 col1\" >89 dollars</td>\n",
       "      <td id=\"T_735a7_row7_col2\" class=\"data row7 col2\" >Brooklyn, South Slope</td>\n",
       "    </tr>\n",
       "    <tr>\n",
       "      <th id=\"T_735a7_level0_row8\" class=\"row_heading level0 row8\" >8</th>\n",
       "      <td id=\"T_735a7_row8_col0\" class=\"data row8 col0\" >6021</td>\n",
       "      <td id=\"T_735a7_row8_col1\" class=\"data row8 col1\" >85 dollars</td>\n",
       "      <td id=\"T_735a7_row8_col2\" class=\"data row8 col2\" >Manhattan, Upper West Side</td>\n",
       "    </tr>\n",
       "    <tr>\n",
       "      <th id=\"T_735a7_level0_row9\" class=\"row_heading level0 row9\" >9</th>\n",
       "      <td id=\"T_735a7_row9_col0\" class=\"data row9 col0\" >6848</td>\n",
       "      <td id=\"T_735a7_row9_col1\" class=\"data row9 col1\" >140 dollars</td>\n",
       "      <td id=\"T_735a7_row9_col2\" class=\"data row9 col2\" >Brooklyn, Williamsburg</td>\n",
       "    </tr>\n",
       "  </tbody>\n",
       "</table>\n"
      ],
      "text/plain": [
       "<pandas.io.formats.style.Styler at 0x1f238b53410>"
      ]
     },
     "execution_count": 6,
     "metadata": {},
     "output_type": "execute_result"
    }
   ],
   "source": [
    "room_price.head(10).style.background_gradient()"
   ]
  },
  {
   "cell_type": "code",
   "execution_count": 17,
   "metadata": {},
   "outputs": [
    {
     "data": {
      "text/html": [
       "<style type=\"text/css\">\n",
       "#T_a9373_row0_col0 {\n",
       "  background-color: #fff7fb;\n",
       "  color: #000000;\n",
       "}\n",
       "#T_a9373_row1_col0 {\n",
       "  background-color: #81aed2;\n",
       "  color: #f1f1f1;\n",
       "}\n",
       "#T_a9373_row2_col0 {\n",
       "  background-color: #03466e;\n",
       "  color: #f1f1f1;\n",
       "}\n",
       "#T_a9373_row3_col0 {\n",
       "  background-color: #023d60;\n",
       "  color: #f1f1f1;\n",
       "}\n",
       "#T_a9373_row4_col0 {\n",
       "  background-color: #023858;\n",
       "  color: #f1f1f1;\n",
       "}\n",
       "</style>\n",
       "<table id=\"T_a9373\">\n",
       "  <thead>\n",
       "    <tr>\n",
       "      <th class=\"blank level0\" >&nbsp;</th>\n",
       "      <th id=\"T_a9373_level0_col0\" class=\"col_heading level0 col0\" >listing_id</th>\n",
       "      <th id=\"T_a9373_level0_col1\" class=\"col_heading level0 col1\" >host_name</th>\n",
       "      <th id=\"T_a9373_level0_col2\" class=\"col_heading level0 col2\" >last_review</th>\n",
       "    </tr>\n",
       "  </thead>\n",
       "  <tbody>\n",
       "    <tr>\n",
       "      <th id=\"T_a9373_level0_row0\" class=\"row_heading level0 row0\" >0</th>\n",
       "      <td id=\"T_a9373_row0_col0\" class=\"data row0 col0\" >2595</td>\n",
       "      <td id=\"T_a9373_row0_col1\" class=\"data row0 col1\" >Jennifer</td>\n",
       "      <td id=\"T_a9373_row0_col2\" class=\"data row0 col2\" >2019-05-21 00:00:00</td>\n",
       "    </tr>\n",
       "    <tr>\n",
       "      <th id=\"T_a9373_level0_row1\" class=\"row_heading level0 row1\" >1</th>\n",
       "      <td id=\"T_a9373_row1_col0\" class=\"data row1 col0\" >3831</td>\n",
       "      <td id=\"T_a9373_row1_col1\" class=\"data row1 col1\" >LisaRoxanne</td>\n",
       "      <td id=\"T_a9373_row1_col2\" class=\"data row1 col2\" >2019-07-05 00:00:00</td>\n",
       "    </tr>\n",
       "    <tr>\n",
       "      <th id=\"T_a9373_level0_row2\" class=\"row_heading level0 row2\" >2</th>\n",
       "      <td id=\"T_a9373_row2_col0\" class=\"data row2 col0\" >5099</td>\n",
       "      <td id=\"T_a9373_row2_col1\" class=\"data row2 col1\" >Chris</td>\n",
       "      <td id=\"T_a9373_row2_col2\" class=\"data row2 col2\" >2019-06-22 00:00:00</td>\n",
       "    </tr>\n",
       "    <tr>\n",
       "      <th id=\"T_a9373_level0_row3\" class=\"row_heading level0 row3\" >3</th>\n",
       "      <td id=\"T_a9373_row3_col0\" class=\"data row3 col0\" >5178</td>\n",
       "      <td id=\"T_a9373_row3_col1\" class=\"data row3 col1\" >Shunichi</td>\n",
       "      <td id=\"T_a9373_row3_col2\" class=\"data row3 col2\" >2019-06-24 00:00:00</td>\n",
       "    </tr>\n",
       "    <tr>\n",
       "      <th id=\"T_a9373_level0_row4\" class=\"row_heading level0 row4\" >4</th>\n",
       "      <td id=\"T_a9373_row4_col0\" class=\"data row4 col0\" >5238</td>\n",
       "      <td id=\"T_a9373_row4_col1\" class=\"data row4 col1\" >Ben</td>\n",
       "      <td id=\"T_a9373_row4_col2\" class=\"data row4 col2\" >2019-06-09 00:00:00</td>\n",
       "    </tr>\n",
       "  </tbody>\n",
       "</table>\n"
      ],
      "text/plain": [
       "<pandas.io.formats.style.Styler at 0x26cb8609a00>"
      ]
     },
     "execution_count": 17,
     "metadata": {},
     "output_type": "execute_result"
    }
   ],
   "source": [
    "review.head().style.background_gradient()"
   ]
  },
  {
   "cell_type": "code",
   "execution_count": 20,
   "metadata": {},
   "outputs": [
    {
     "data": {
      "text/html": [
       "<style type=\"text/css\">\n",
       "#T_2870f_row0_col0 {\n",
       "  background-color: #fff7fb;\n",
       "  color: #000000;\n",
       "}\n",
       "#T_2870f_row1_col0 {\n",
       "  background-color: #c2cbe2;\n",
       "  color: #000000;\n",
       "}\n",
       "#T_2870f_row2_col0 {\n",
       "  background-color: #4897c4;\n",
       "  color: #f1f1f1;\n",
       "}\n",
       "#T_2870f_row3_col0 {\n",
       "  background-color: #3f93c2;\n",
       "  color: #f1f1f1;\n",
       "}\n",
       "#T_2870f_row4_col0 {\n",
       "  background-color: #3790c0;\n",
       "  color: #f1f1f1;\n",
       "}\n",
       "#T_2870f_row5_col0 {\n",
       "  background-color: #328dbf;\n",
       "  color: #f1f1f1;\n",
       "}\n",
       "#T_2870f_row6_col0 {\n",
       "  background-color: #2484ba;\n",
       "  color: #f1f1f1;\n",
       "}\n",
       "#T_2870f_row7_col0 {\n",
       "  background-color: #056fae;\n",
       "  color: #f1f1f1;\n",
       "}\n",
       "#T_2870f_row8_col0 {\n",
       "  background-color: #0566a0;\n",
       "  color: #f1f1f1;\n",
       "}\n",
       "#T_2870f_row9_col0 {\n",
       "  background-color: #023858;\n",
       "  color: #f1f1f1;\n",
       "}\n",
       "</style>\n",
       "<table id=\"T_2870f\">\n",
       "  <thead>\n",
       "    <tr>\n",
       "      <th class=\"blank level0\" >&nbsp;</th>\n",
       "      <th id=\"T_2870f_level0_col0\" class=\"col_heading level0 col0\" >listing_id</th>\n",
       "      <th id=\"T_2870f_level0_col1\" class=\"col_heading level0 col1\" >description</th>\n",
       "      <th id=\"T_2870f_level0_col2\" class=\"col_heading level0 col2\" >room_type</th>\n",
       "    </tr>\n",
       "  </thead>\n",
       "  <tbody>\n",
       "    <tr>\n",
       "      <th id=\"T_2870f_level0_row0\" class=\"row_heading level0 row0\" >0</th>\n",
       "      <td id=\"T_2870f_row0_col0\" class=\"data row0 col0\" >2595</td>\n",
       "      <td id=\"T_2870f_row0_col1\" class=\"data row0 col1\" >Skylit Midtown Castle</td>\n",
       "      <td id=\"T_2870f_row0_col2\" class=\"data row0 col2\" >entire home/apt</td>\n",
       "    </tr>\n",
       "    <tr>\n",
       "      <th id=\"T_2870f_level0_row1\" class=\"row_heading level0 row1\" >1</th>\n",
       "      <td id=\"T_2870f_row1_col0\" class=\"data row1 col0\" >3831</td>\n",
       "      <td id=\"T_2870f_row1_col1\" class=\"data row1 col1\" >Cozy Entire Floor of Brownstone</td>\n",
       "      <td id=\"T_2870f_row1_col2\" class=\"data row1 col2\" >entire home/apt</td>\n",
       "    </tr>\n",
       "    <tr>\n",
       "      <th id=\"T_2870f_level0_row2\" class=\"row_heading level0 row2\" >2</th>\n",
       "      <td id=\"T_2870f_row2_col0\" class=\"data row2 col0\" >5099</td>\n",
       "      <td id=\"T_2870f_row2_col1\" class=\"data row2 col1\" >Large Cozy 1 BR Apartment In Midtown East</td>\n",
       "      <td id=\"T_2870f_row2_col2\" class=\"data row2 col2\" >entire home/apt</td>\n",
       "    </tr>\n",
       "    <tr>\n",
       "      <th id=\"T_2870f_level0_row3\" class=\"row_heading level0 row3\" >3</th>\n",
       "      <td id=\"T_2870f_row3_col0\" class=\"data row3 col0\" >5178</td>\n",
       "      <td id=\"T_2870f_row3_col1\" class=\"data row3 col1\" >Large Furnished Room Near B'way</td>\n",
       "      <td id=\"T_2870f_row3_col2\" class=\"data row3 col2\" >private room</td>\n",
       "    </tr>\n",
       "    <tr>\n",
       "      <th id=\"T_2870f_level0_row4\" class=\"row_heading level0 row4\" >4</th>\n",
       "      <td id=\"T_2870f_row4_col0\" class=\"data row4 col0\" >5238</td>\n",
       "      <td id=\"T_2870f_row4_col1\" class=\"data row4 col1\" >Cute & Cozy Lower East Side 1 bdrm</td>\n",
       "      <td id=\"T_2870f_row4_col2\" class=\"data row4 col2\" >entire home/apt</td>\n",
       "    </tr>\n",
       "    <tr>\n",
       "      <th id=\"T_2870f_level0_row5\" class=\"row_heading level0 row5\" >5</th>\n",
       "      <td id=\"T_2870f_row5_col0\" class=\"data row5 col0\" >5295</td>\n",
       "      <td id=\"T_2870f_row5_col1\" class=\"data row5 col1\" >Beautiful 1br on Upper West Side</td>\n",
       "      <td id=\"T_2870f_row5_col2\" class=\"data row5 col2\" >entire home/apt</td>\n",
       "    </tr>\n",
       "    <tr>\n",
       "      <th id=\"T_2870f_level0_row6\" class=\"row_heading level0 row6\" >6</th>\n",
       "      <td id=\"T_2870f_row6_col0\" class=\"data row6 col0\" >5441</td>\n",
       "      <td id=\"T_2870f_row6_col1\" class=\"data row6 col1\" >Central Manhattan/near Broadway</td>\n",
       "      <td id=\"T_2870f_row6_col2\" class=\"data row6 col2\" >private room</td>\n",
       "    </tr>\n",
       "    <tr>\n",
       "      <th id=\"T_2870f_level0_row7\" class=\"row_heading level0 row7\" >7</th>\n",
       "      <td id=\"T_2870f_row7_col0\" class=\"data row7 col0\" >5803</td>\n",
       "      <td id=\"T_2870f_row7_col1\" class=\"data row7 col1\" >Lovely Room 1, Garden, Best Area, Legal rental</td>\n",
       "      <td id=\"T_2870f_row7_col2\" class=\"data row7 col2\" >private room</td>\n",
       "    </tr>\n",
       "    <tr>\n",
       "      <th id=\"T_2870f_level0_row8\" class=\"row_heading level0 row8\" >8</th>\n",
       "      <td id=\"T_2870f_row8_col0\" class=\"data row8 col0\" >6021</td>\n",
       "      <td id=\"T_2870f_row8_col1\" class=\"data row8 col1\" >Wonderful Guest Bedroom in Manhattan for SINGLES</td>\n",
       "      <td id=\"T_2870f_row8_col2\" class=\"data row8 col2\" >private room</td>\n",
       "    </tr>\n",
       "    <tr>\n",
       "      <th id=\"T_2870f_level0_row9\" class=\"row_heading level0 row9\" >9</th>\n",
       "      <td id=\"T_2870f_row9_col0\" class=\"data row9 col0\" >6848</td>\n",
       "      <td id=\"T_2870f_row9_col1\" class=\"data row9 col1\" >Only 2 stops to Manhattan studio</td>\n",
       "      <td id=\"T_2870f_row9_col2\" class=\"data row9 col2\" >entire home/apt</td>\n",
       "    </tr>\n",
       "  </tbody>\n",
       "</table>\n"
      ],
      "text/plain": [
       "<pandas.io.formats.style.Styler at 0x26cb854d520>"
      ]
     },
     "execution_count": 20,
     "metadata": {},
     "output_type": "execute_result"
    }
   ],
   "source": [
    "room_type.head().style.background_gradient()"
   ]
  },
  {
   "cell_type": "markdown",
   "metadata": {},
   "source": [
    "## Cleaning the Price Column to get the average price of room type\n",
    "\n",
    "<p>You have noticed that the price <code>column</code> in the <code>room_price</code> DataFrame currently represents each value as a string with the currency (dollars)</p>\n",
    "\n",
    "<p>We have to clean the data in order to calculate average price</p>"
   ]
  },
  {
   "cell_type": "code",
   "execution_count": 7,
   "metadata": {},
   "outputs": [
    {
     "name": "stdout",
     "output_type": "stream",
     "text": [
      "count    25209.000000\n",
      "mean       141.777936\n",
      "std        147.349137\n",
      "min          0.000000\n",
      "25%         69.000000\n",
      "50%        105.000000\n",
      "75%        175.000000\n",
      "max       7500.000000\n",
      "Name: price, dtype: float64\n"
     ]
    }
   ],
   "source": [
    "#Remove space and string characters from room price column\n",
    "room_price[\"price\"] = room_price[\"price\"].astype(str)\n",
    "room_price[\"price\"] = room_price[\"price\"].str.replace(\" dollars\", \"\")\n",
    "\n",
    "# Convert prices column to numeric datatype\n",
    "room_price[\"price\"] = pd.to_numeric(room_price[\"price\"])\n",
    "\n",
    "# Print descriptive statistics for the price column\n",
    "print(room_price[\"price\"].describe())"
   ]
  },
  {
   "cell_type": "markdown",
   "metadata": {},
   "source": [
    "## Calculating Average Price</p> \n",
    "\n",
    "<p>As we have seen, 75% of listings cost is $175(almost 3/4)</p>\n",
    "\n",
    "<p>And there are some listings price which is  <code>$7500</code> and some of listings are for free <code>$0</code>.</p>"
   ]
  },
  {
   "cell_type": "code",
   "execution_count": 8,
   "metadata": {},
   "outputs": [
    {
     "name": "stdout",
     "output_type": "stream",
     "text": [
      "average_price per night of an Airbnb Listing is $141.82.\n"
     ]
    }
   ],
   "source": [
    "free_listings = room_price[\"price\"] == 0\n",
    "room_price = room_price.loc[~free_listings]\n",
    "average_price = round(room_price['price'].mean(),2)\n",
    "print(\"average_price per night of an Airbnb Listing is ${}.\".format(average_price))"
   ]
  },
  {
   "cell_type": "markdown",
   "metadata": {},
   "source": [
    "## Comparing Cost to the Private Rental Market\n",
    "\n",
    "<p>After determining the average cost per night for a listing. According to <code>Zumper</code>, the average monthly rent for a 1-bedroom apartment in New York City is $3,100. To perform a meaningful comparison with the private market, we'll convert the <code>night_prices</code> of our listings into <code>monthly costs</code>.</p>"
   ]
  },
  {
   "cell_type": "code",
   "execution_count": 9,
   "metadata": {},
   "outputs": [
    {
     "name": "stdout",
     "output_type": "stream",
     "text": [
      "Airbnb monthly price is $4313.61, and price of private rental is $3,100.00.\n"
     ]
    }
   ],
   "source": [
    "#Add new column as price per month\n",
    "room_price[\"price_per_month\"] = room_price[\"price\"] * 365/12\n",
    "\n",
    "#calculate average of price per month\n",
    "avg_price_per_month = round(room_price[\"price_per_month\"].mean(),2)\n",
    "\n",
    "#Comparing Airbnb and Rental Market\n",
    "print(\"Airbnb monthly price is ${}, and price of private rental is {}.\".format(avg_price_per_month, \"$3,100.00\"))"
   ]
  },
  {
   "cell_type": "markdown",
   "metadata": {},
   "source": [
    "<p>Unsurprisingly, using Airbnb appears to be substantially more expensive than the private rental market. However, it's essential to consider that Airbnb listings encompass various accommodations, including single private rooms or even shared rooms, as well as entire homes/apartments.</p>"
   ]
  },
  {
   "cell_type": "markdown",
   "metadata": {},
   "source": [
    "## Cleaning  Room Type Column\n",
    "\n",
    "<p>In room type column there are some data which is not proper, some data is in lower case and some in upper case. We can standardize this by converting all string characters to lowercase</p>"
   ]
  },
  {
   "cell_type": "code",
   "execution_count": 10,
   "metadata": {},
   "outputs": [
    {
     "name": "stdout",
     "output_type": "stream",
     "text": [
      "room_type\n",
      "entire home/apt    13266\n",
      "private room       11356\n",
      "shared room          587\n",
      "Name: count, dtype: int64\n"
     ]
    }
   ],
   "source": [
    "#To Convert the room type column to lowercase\n",
    "room_type[\"room_type\"] = room_type[\"room_type\"].str.lower()\n",
    "\n",
    "#Upadte the room type column to cartegory data type\n",
    "room_type[\"room_type\"] = room_type[\"room_type\"].astype(\"category\")\n",
    "\n",
    "#createing new variable as room frquencies\n",
    "room_frequencies = room_type[\"room_type\"].value_counts()\n",
    "\n",
    "print(room_frequencies)"
   ]
  },
  {
   "cell_type": "markdown",
   "metadata": {},
   "source": [
    "## What timeframe are we working with\n",
    "\n",
    "The <code>last_review</code> column contains the date of the last review in the format of \"Month Day Year\" ( May 21 2019 ). We've been asked to find out the earliest and latest review dates in the DataFrame, and ensure the format allows this analysis to be easily conducted going forwards. </p>"
   ]
  },
  {
   "cell_type": "code",
   "execution_count": 11,
   "metadata": {},
   "outputs": [
    {
     "name": "stdout",
     "output_type": "stream",
     "text": [
      "The earliest Airbnb review is 2019-01-01, the latest review is 2019-07-09\n"
     ]
    }
   ],
   "source": [
    "#Change the data type of the last review column to datetime\n",
    "review[\"last_review\"] = pd.to_datetime(review[\"last_review\"])\n",
    "\n",
    "#Create first review , the earliest review date\n",
    "first_review = review[\"last_review\"].dt.date.min()\n",
    "\n",
    "#Create last reviewed, the most recent review date\n",
    "last_reviewed = review[\"last_review\"].dt.date.max()\n",
    "\n",
    "#Print the oldest and newest reviews from the dataset\n",
    "print(\"The earliest Airbnb review is {}, the latest review is {}\".format(first_review, last_reviewed))"
   ]
  },
  {
   "cell_type": "markdown",
   "metadata": {},
   "source": [
    "## Joining the dataframe\n",
    "\n",
    "\n",
    "<p>Now that we've extracted the necessary information, we will merge the three DataFrames to streamline any future analysis. After merging the data, we'll remove any observations with missing values and check for duplicates</p>"
   ]
  },
  {
   "cell_type": "code",
   "execution_count": 12,
   "metadata": {},
   "outputs": [
    {
     "name": "stdout",
     "output_type": "stream",
     "text": [
      "There are 0 duplicates in the Dataframe.\n"
     ]
    }
   ],
   "source": [
    "#Merging room price and room type to create new df rooms and prices\n",
    "room_and_prices = room_price.merge(room_type, how=\"outer\", on=\"listing_id\")\n",
    "\n",
    "#Merge price and type to create new df airbnb_merged\n",
    "airbnb =  room_type.merge(room_and_prices, how=\"outer\", on=\"listing_id\")\n",
    "\n",
    "#handling  missing values from airbnb\n",
    "airbnb.dropna(inplace=True)\n",
    "\n",
    "#Removing duplicate data\n",
    "print(\"There are {} duplicates in the Dataframe.\".format(airbnb.duplicated().sum()))"
   ]
  },
  {
   "cell_type": "code",
   "execution_count": 13,
   "metadata": {},
   "outputs": [
    {
     "data": {
      "text/html": [
       "<style type=\"text/css\">\n",
       "#T_a7cd6_row0_col0, #T_a7cd6_row3_col3, #T_a7cd6_row3_col5 {\n",
       "  background-color: #fff7fb;\n",
       "  color: #000000;\n",
       "}\n",
       "#T_a7cd6_row0_col3, #T_a7cd6_row0_col5, #T_a7cd6_row4_col0 {\n",
       "  background-color: #023858;\n",
       "  color: #f1f1f1;\n",
       "}\n",
       "#T_a7cd6_row1_col0 {\n",
       "  background-color: #81aed2;\n",
       "  color: #f1f1f1;\n",
       "}\n",
       "#T_a7cd6_row1_col3, #T_a7cd6_row1_col5 {\n",
       "  background-color: #f5eef6;\n",
       "  color: #000000;\n",
       "}\n",
       "#T_a7cd6_row2_col0 {\n",
       "  background-color: #03466e;\n",
       "  color: #f1f1f1;\n",
       "}\n",
       "#T_a7cd6_row2_col3, #T_a7cd6_row2_col5 {\n",
       "  background-color: #046299;\n",
       "  color: #f1f1f1;\n",
       "}\n",
       "#T_a7cd6_row3_col0 {\n",
       "  background-color: #023d60;\n",
       "  color: #f1f1f1;\n",
       "}\n",
       "#T_a7cd6_row4_col3, #T_a7cd6_row4_col5 {\n",
       "  background-color: #79abd0;\n",
       "  color: #f1f1f1;\n",
       "}\n",
       "</style>\n",
       "<table id=\"T_a7cd6\">\n",
       "  <thead>\n",
       "    <tr>\n",
       "      <th class=\"blank level0\" >&nbsp;</th>\n",
       "      <th id=\"T_a7cd6_level0_col0\" class=\"col_heading level0 col0\" >listing_id</th>\n",
       "      <th id=\"T_a7cd6_level0_col1\" class=\"col_heading level0 col1\" >description_x</th>\n",
       "      <th id=\"T_a7cd6_level0_col2\" class=\"col_heading level0 col2\" >room_type_x</th>\n",
       "      <th id=\"T_a7cd6_level0_col3\" class=\"col_heading level0 col3\" >price</th>\n",
       "      <th id=\"T_a7cd6_level0_col4\" class=\"col_heading level0 col4\" >nbhood_full</th>\n",
       "      <th id=\"T_a7cd6_level0_col5\" class=\"col_heading level0 col5\" >price_per_month</th>\n",
       "      <th id=\"T_a7cd6_level0_col6\" class=\"col_heading level0 col6\" >description_y</th>\n",
       "      <th id=\"T_a7cd6_level0_col7\" class=\"col_heading level0 col7\" >room_type_y</th>\n",
       "    </tr>\n",
       "  </thead>\n",
       "  <tbody>\n",
       "    <tr>\n",
       "      <th id=\"T_a7cd6_level0_row0\" class=\"row_heading level0 row0\" >0</th>\n",
       "      <td id=\"T_a7cd6_row0_col0\" class=\"data row0 col0\" >2595</td>\n",
       "      <td id=\"T_a7cd6_row0_col1\" class=\"data row0 col1\" >Skylit Midtown Castle</td>\n",
       "      <td id=\"T_a7cd6_row0_col2\" class=\"data row0 col2\" >entire home/apt</td>\n",
       "      <td id=\"T_a7cd6_row0_col3\" class=\"data row0 col3\" >225.000000</td>\n",
       "      <td id=\"T_a7cd6_row0_col4\" class=\"data row0 col4\" >Manhattan, Midtown</td>\n",
       "      <td id=\"T_a7cd6_row0_col5\" class=\"data row0 col5\" >6843.750000</td>\n",
       "      <td id=\"T_a7cd6_row0_col6\" class=\"data row0 col6\" >Skylit Midtown Castle</td>\n",
       "      <td id=\"T_a7cd6_row0_col7\" class=\"data row0 col7\" >entire home/apt</td>\n",
       "    </tr>\n",
       "    <tr>\n",
       "      <th id=\"T_a7cd6_level0_row1\" class=\"row_heading level0 row1\" >1</th>\n",
       "      <td id=\"T_a7cd6_row1_col0\" class=\"data row1 col0\" >3831</td>\n",
       "      <td id=\"T_a7cd6_row1_col1\" class=\"data row1 col1\" >Cozy Entire Floor of Brownstone</td>\n",
       "      <td id=\"T_a7cd6_row1_col2\" class=\"data row1 col2\" >entire home/apt</td>\n",
       "      <td id=\"T_a7cd6_row1_col3\" class=\"data row1 col3\" >89.000000</td>\n",
       "      <td id=\"T_a7cd6_row1_col4\" class=\"data row1 col4\" >Brooklyn, Clinton Hill</td>\n",
       "      <td id=\"T_a7cd6_row1_col5\" class=\"data row1 col5\" >2707.083333</td>\n",
       "      <td id=\"T_a7cd6_row1_col6\" class=\"data row1 col6\" >Cozy Entire Floor of Brownstone</td>\n",
       "      <td id=\"T_a7cd6_row1_col7\" class=\"data row1 col7\" >entire home/apt</td>\n",
       "    </tr>\n",
       "    <tr>\n",
       "      <th id=\"T_a7cd6_level0_row2\" class=\"row_heading level0 row2\" >2</th>\n",
       "      <td id=\"T_a7cd6_row2_col0\" class=\"data row2 col0\" >5099</td>\n",
       "      <td id=\"T_a7cd6_row2_col1\" class=\"data row2 col1\" >Large Cozy 1 BR Apartment In Midtown East</td>\n",
       "      <td id=\"T_a7cd6_row2_col2\" class=\"data row2 col2\" >entire home/apt</td>\n",
       "      <td id=\"T_a7cd6_row2_col3\" class=\"data row2 col3\" >200.000000</td>\n",
       "      <td id=\"T_a7cd6_row2_col4\" class=\"data row2 col4\" >Manhattan, Murray Hill</td>\n",
       "      <td id=\"T_a7cd6_row2_col5\" class=\"data row2 col5\" >6083.333333</td>\n",
       "      <td id=\"T_a7cd6_row2_col6\" class=\"data row2 col6\" >Large Cozy 1 BR Apartment In Midtown East</td>\n",
       "      <td id=\"T_a7cd6_row2_col7\" class=\"data row2 col7\" >entire home/apt</td>\n",
       "    </tr>\n",
       "    <tr>\n",
       "      <th id=\"T_a7cd6_level0_row3\" class=\"row_heading level0 row3\" >3</th>\n",
       "      <td id=\"T_a7cd6_row3_col0\" class=\"data row3 col0\" >5178</td>\n",
       "      <td id=\"T_a7cd6_row3_col1\" class=\"data row3 col1\" >Large Furnished Room Near B'way</td>\n",
       "      <td id=\"T_a7cd6_row3_col2\" class=\"data row3 col2\" >private room</td>\n",
       "      <td id=\"T_a7cd6_row3_col3\" class=\"data row3 col3\" >79.000000</td>\n",
       "      <td id=\"T_a7cd6_row3_col4\" class=\"data row3 col4\" >Manhattan, Hell's Kitchen</td>\n",
       "      <td id=\"T_a7cd6_row3_col5\" class=\"data row3 col5\" >2402.916667</td>\n",
       "      <td id=\"T_a7cd6_row3_col6\" class=\"data row3 col6\" >Large Furnished Room Near B'way</td>\n",
       "      <td id=\"T_a7cd6_row3_col7\" class=\"data row3 col7\" >private room</td>\n",
       "    </tr>\n",
       "    <tr>\n",
       "      <th id=\"T_a7cd6_level0_row4\" class=\"row_heading level0 row4\" >4</th>\n",
       "      <td id=\"T_a7cd6_row4_col0\" class=\"data row4 col0\" >5238</td>\n",
       "      <td id=\"T_a7cd6_row4_col1\" class=\"data row4 col1\" >Cute & Cozy Lower East Side 1 bdrm</td>\n",
       "      <td id=\"T_a7cd6_row4_col2\" class=\"data row4 col2\" >entire home/apt</td>\n",
       "      <td id=\"T_a7cd6_row4_col3\" class=\"data row4 col3\" >150.000000</td>\n",
       "      <td id=\"T_a7cd6_row4_col4\" class=\"data row4 col4\" >Manhattan, Chinatown</td>\n",
       "      <td id=\"T_a7cd6_row4_col5\" class=\"data row4 col5\" >4562.500000</td>\n",
       "      <td id=\"T_a7cd6_row4_col6\" class=\"data row4 col6\" >Cute & Cozy Lower East Side 1 bdrm</td>\n",
       "      <td id=\"T_a7cd6_row4_col7\" class=\"data row4 col7\" >entire home/apt</td>\n",
       "    </tr>\n",
       "  </tbody>\n",
       "</table>\n"
      ],
      "text/plain": [
       "<pandas.io.formats.style.Styler at 0x26cb81da840>"
      ]
     },
     "execution_count": 13,
     "metadata": {},
     "output_type": "execute_result"
    }
   ],
   "source": [
    "airbnb.head().style.background_gradient()"
   ]
  },
  {
   "cell_type": "markdown",
   "metadata": {},
   "source": [
    "## Analyzing listing Prices by NYC borough\n",
    "\n",
    "<p>Now that we have combined all data into a single DataFrame, Will focus on understanding the difference in listing prices between <code>NYC Boroughs</code>. \n",
    "Currently, boroughs are listed as the first part of a string within the <code>nbhood_full</code> column, for example:\n",
    "\n",
    "<pre><code>Manhattan, Midtown\n",
    "Brooklyn, Clinton Hill\n",
    "Manhattan, Murray Hill\n",
    "Manhattan, Hell's Kitchen\n",
    "Manhattan, Chinatown</code></pre>\n",
    "\n",
    "we need to extract this borough information from the string and store it in a new column, <code>borough</code>.</p>"
   ]
  },
  {
   "cell_type": "code",
   "execution_count": 14,
   "metadata": {},
   "outputs": [
    {
     "name": "stdout",
     "output_type": "stream",
     "text": [
      "                     sum    mean  median  count\n",
      "borough                                        \n",
      "Manhattan      1898963.0  184.03   149.0  10319\n",
      "Brooklyn       1275435.0  122.02    95.0  10453\n",
      "Queens          320765.0   92.81    70.0   3456\n",
      "Staten Island    22974.0   86.04    71.0    267\n",
      "Bronx            55231.0   79.24    65.0    697\n"
     ]
    }
   ],
   "source": [
    "# Extract data from the nbhood column and store as a new column, borough\n",
    "airbnb[\"borough\"] = airbnb[\"nbhood_full\"].str.partition(\",\")[0]\n",
    "\n",
    "#Grouping borough and calculating summary stat\n",
    "boroughs = airbnb.groupby(\"borough\")[\"price\"].agg([\"sum\", \"mean\", \"median\", \"count\"])\n",
    "\n",
    "# Round borough to 2 decimal places, and sort by mean in descending order\n",
    "boroughs = boroughs.round(2).sort_values(\"mean\", ascending=False)\n",
    "\n",
    "print(boroughs)"
   ]
  },
  {
   "cell_type": "markdown",
   "metadata": {},
   "source": [
    "## Price range by borough\n",
    "\n",
    "<p>The above output provides a summary of prices for listings across the 5 boroughs. For this final task, we aim to categorize listings based on specific price ranges and view this breakdown by borough.</p>"
   ]
  },
  {
   "cell_type": "code",
   "execution_count": 15,
   "metadata": {},
   "outputs": [
    {
     "name": "stdout",
     "output_type": "stream",
     "text": [
      "borough        price_range\n",
      "Bronx          Budget          381\n",
      "               Average         286\n",
      "               Expensive        25\n",
      "               Extravagant       5\n",
      "Brooklyn       Budget         3194\n",
      "               Average        5534\n",
      "               Expensive      1466\n",
      "               Extravagant     259\n",
      "Manhattan      Budget         1148\n",
      "               Average        5288\n",
      "               Expensive      3073\n",
      "               Extravagant     810\n",
      "Queens         Budget         1632\n",
      "               Average        1505\n",
      "               Expensive       291\n",
      "               Extravagant      28\n",
      "Staten Island  Budget          124\n",
      "               Average         123\n",
      "               Expensive        20\n",
      "               Extravagant       0\n",
      "Name: price_range, dtype: int64\n"
     ]
    },
    {
     "name": "stderr",
     "output_type": "stream",
     "text": [
      "C:\\Users\\lenovo\\AppData\\Local\\Temp\\ipykernel_13960\\4038637146.py:11: FutureWarning: The default of observed=False is deprecated and will be changed to True in a future version of pandas. Pass observed=False to retain current behavior or observed=True to adopt the future default and silence this warning.\n",
      "  price_by_borough = airbnb.groupby([\"borough\", \"price_range\"])[\"price_range\"].count()\n"
     ]
    }
   ],
   "source": [
    "#creating labels for the price range \n",
    "label_names = [\"Budget\", \"Average\", \"Expensive\", \"Extravagant\"]\n",
    "\n",
    "#creating the label ranges\n",
    "ranges = [0, 69, 175, 350, np.inf]\n",
    "\n",
    "#Inserted new column, price range, into Dataframe\n",
    "airbnb[\"price_range\"] = pd.cut(airbnb[\"price\"], bins=ranges, labels=label_names)\n",
    "\n",
    "#calculate occurence frequencies for each label, prices_by_borough\n",
    "price_by_borough = airbnb.groupby([\"borough\", \"price_range\"])[\"price_range\"].count()\n",
    "print(price_by_borough)"
   ]
  }
 ],
 "metadata": {
  "kernelspec": {
   "display_name": "Python 3",
   "language": "python",
   "name": "python3"
  },
  "language_info": {
   "codemirror_mode": {
    "name": "ipython",
    "version": 3
   },
   "file_extension": ".py",
   "mimetype": "text/x-python",
   "name": "python",
   "nbconvert_exporter": "python",
   "pygments_lexer": "ipython3",
   "version": "3.12.0"
  }
 },
 "nbformat": 4,
 "nbformat_minor": 2
}
